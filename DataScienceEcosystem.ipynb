{
 "cells": [
  {
   "cell_type": "markdown",
   "id": "1dda74cb-17c0-412d-afd7-4897c81997d8",
   "metadata": {},
   "source": [
    "# Data Science Tools and Ecosystem"
   ]
  },
  {
   "cell_type": "markdown",
   "id": "26aa77ef-5800-4c56-920b-5c85621f66e2",
   "metadata": {},
   "source": [
    "In this notebook, Data Science Tools and Ecosystem are summarized."
   ]
  },
  {
   "cell_type": "markdown",
   "id": "2be7f6fb-693a-4189-9154-5e153e3eaad8",
   "metadata": {},
   "source": [
    "Some of the popular languages that Data Scientists use are:\n",
    "1. R\n",
    "2. Python\n",
    "3. SQL"
   ]
  },
  {
   "cell_type": "markdown",
   "id": "13e0ae09-d71a-48ce-8593-474cce347c52",
   "metadata": {},
   "source": [
    "Some of the commonly used libraries used by Data Scientists include:\n",
    "1. Scrapy\n",
    "2. NumPy\n",
    "3. SciPy"
   ]
  },
  {
   "cell_type": "markdown",
   "id": "0281382d-6998-48ff-8d86-35d5fc710676",
   "metadata": {},
   "source": [
    "| Data Science Tools |\n",
    "|---|\n",
    "|Python|\n",
    "|SQL|\n",
    "|Jupyter|"
   ]
  },
  {
   "cell_type": "markdown",
   "id": "84865141-f286-4f47-9230-86ec54ad0028",
   "metadata": {},
   "source": [
    "### Below are a few examples of evaluating arithmetic expressions in Python"
   ]
  },
  {
   "cell_type": "code",
   "execution_count": 8,
   "id": "5607e990-1c6a-4de8-bcac-499a8aedfe41",
   "metadata": {},
   "outputs": [
    {
     "data": {
      "text/plain": [
       "17"
      ]
     },
     "execution_count": 8,
     "metadata": {},
     "output_type": "execute_result"
    }
   ],
   "source": [
    "(3*4)+5"
   ]
  },
  {
   "cell_type": "code",
   "execution_count": 10,
   "id": "91e033a8-eb07-4b6e-b3e2-a1735d86bf44",
   "metadata": {},
   "outputs": [
    {
     "data": {
      "text/plain": [
       "17"
      ]
     },
     "execution_count": 10,
     "metadata": {},
     "output_type": "execute_result"
    }
   ],
   "source": [
    "(3*4)+5\n",
    "# This a simple arithmetic expression to mutiply then add integers"
   ]
  },
  {
   "cell_type": "code",
   "execution_count": 2,
   "id": "c8d667b2-b584-4395-9778-e72b9f6ec29a",
   "metadata": {},
   "outputs": [
    {
     "ename": "NameError",
     "evalue": "name 'y' is not defined",
     "output_type": "error",
     "traceback": [
      "\u001b[1;31m---------------------------------------------------------------------------\u001b[0m",
      "\u001b[1;31mNameError\u001b[0m                                 Traceback (most recent call last)",
      "Cell \u001b[1;32mIn[2], line 1\u001b[0m\n\u001b[1;32m----> 1\u001b[0m x\u001b[38;5;241m=\u001b[39m(y\u001b[38;5;241m/\u001b[39m\u001b[38;5;241m60\u001b[39m)\n\u001b[0;32m      2\u001b[0m y\u001b[38;5;241m=\u001b[39m\u001b[38;5;241m200\u001b[39m\n",
      "\u001b[1;31mNameError\u001b[0m: name 'y' is not defined"
     ]
    }
   ],
   "source": [
    "x=(y/60)\n",
    "y=200"
   ]
  },
  {
   "cell_type": "code",
   "execution_count": 4,
   "id": "65223231-ef98-4125-ac33-7f9c5881b48e",
   "metadata": {},
   "outputs": [
    {
     "ename": "SyntaxError",
     "evalue": "invalid syntax (208744031.py, line 1)",
     "output_type": "error",
     "traceback": [
      "\u001b[1;36m  Cell \u001b[1;32mIn[4], line 1\u001b[1;36m\u001b[0m\n\u001b[1;33m    x= 1 hour\u001b[0m\n\u001b[1;37m         ^\u001b[0m\n\u001b[1;31mSyntaxError\u001b[0m\u001b[1;31m:\u001b[0m invalid syntax\n"
     ]
    }
   ],
   "source": [
    "x= 1 hour\n",
    "y= 60 minutes\n",
    "x=y\n",
    "2*y=x*2\n"
   ]
  },
  {
   "cell_type": "code",
   "execution_count": 8,
   "id": "e5370ac0-f240-4c1b-b34e-ded2031e1dbc",
   "metadata": {},
   "outputs": [
    {
     "data": {
      "text/plain": [
       "3.3333333333333335"
      ]
     },
     "execution_count": 8,
     "metadata": {},
     "output_type": "execute_result"
    }
   ],
   "source": [
    "(200/60)\n",
    "# his will convert 200 minutes to hours by diving by 60\n"
   ]
  },
  {
   "cell_type": "markdown",
   "id": "103b33b8-4f40-4d50-972b-ff38297428db",
   "metadata": {},
   "source": [
    "## Objectives:\n",
    "* Python\n",
    "* R\n",
    "* SQL\n",
    "* Julia\n",
    "* Swift"
   ]
  },
  {
   "cell_type": "markdown",
   "id": "282cc077-d494-4c9c-a948-934feea3c619",
   "metadata": {},
   "source": [
    "## Author\n",
    "Manoj Kumar"
   ]
  },
  {
   "cell_type": "code",
   "execution_count": null,
   "id": "37cf4657-b67c-4aa8-aa83-fe76df97929c",
   "metadata": {},
   "outputs": [],
   "source": []
  }
 ],
 "metadata": {
  "kernelspec": {
   "display_name": "Python 3 (ipykernel)",
   "language": "python",
   "name": "python3"
  },
  "language_info": {
   "codemirror_mode": {
    "name": "ipython",
    "version": 3
   },
   "file_extension": ".py",
   "mimetype": "text/x-python",
   "name": "python",
   "nbconvert_exporter": "python",
   "pygments_lexer": "ipython3",
   "version": "3.12.4"
  }
 },
 "nbformat": 4,
 "nbformat_minor": 5
}
